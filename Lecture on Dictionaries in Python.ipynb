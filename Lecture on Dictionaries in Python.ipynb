{
 "cells": [
  {
   "cell_type": "markdown",
   "id": "5d05fcb1",
   "metadata": {},
   "source": [
    "# Lecture on Dictionaries in Python"
   ]
  },
  {
   "cell_type": "markdown",
   "id": "d08d8ca2",
   "metadata": {},
   "source": [
    "## 1. Objectives of the Lecture"
   ]
  },
  {
   "cell_type": "markdown",
   "id": "e4c0b0fb",
   "metadata": {},
   "source": [
    "### Understand the concept and purpose of dictionaries in Python.\n",
    "### Learn how to create, access, modify, and delete dictionary elements.\n",
    "### Explore common dictionary methods and their applications.\n",
    "### Practice solving real-world business problems using dictionaries."
   ]
  },
  {
   "cell_type": "markdown",
   "id": "032035df",
   "metadata": {},
   "source": [
    "## 2. What is a Dictionary?\n",
    "\n",
    "### A dictionary is an unordered collection of items, where each item is a key-value pair. The key is used to access the corresponding value.\n",
    "\n",
    "## 3. Creating a Dictionary\n",
    "\n",
    "### To create a dictionary, we use curly braces {} and separate key-value pairs with commas."
   ]
  },
  {
   "cell_type": "markdown",
   "id": "7561b830",
   "metadata": {},
   "source": [
    "### dictionary = { \"key1\": \"value1\", \"key2\": \"value2\",....}"
   ]
  },
  {
   "cell_type": "markdown",
   "id": "a9835dd5",
   "metadata": {},
   "source": [
    "## 4. Key Features of Dictionaries\n",
    "### Unordered: Items are not stored in a specific order (Python 3.7+ maintains insertion order).\n",
    "### Mutable: Dictionaries can be modified.\n",
    "### Indexed by Keys: You access values through their keys."
   ]
  },
  {
   "cell_type": "markdown",
   "id": "6a54f75d",
   "metadata": {},
   "source": [
    "my_dict = {'name': 'Alice', 'age': 30, 'city': 'New York'}"
   ]
  },
  {
   "cell_type": "markdown",
   "id": "b3d2a782",
   "metadata": {},
   "source": [
    "## 5. Accessing Values\n",
    "### We can access values using their corresponding keys:"
   ]
  },
  {
   "cell_type": "code",
   "execution_count": null,
   "id": "43f13356",
   "metadata": {},
   "outputs": [],
   "source": [
    "print(my_dict['name'])  # Output: Alice"
   ]
  },
  {
   "cell_type": "markdown",
   "id": "82600b82",
   "metadata": {},
   "source": [
    "## 6. Adding and Modifying Values\n",
    "\n",
    "### We can add new key-value pairs or modify existing ones:"
   ]
  },
  {
   "cell_type": "code",
   "execution_count": null,
   "id": "258c7acb",
   "metadata": {},
   "outputs": [],
   "source": [
    "my_dict['occupation'] = 'Data Analyst'  # Add a new key-value pair\n",
    "my_dict['age'] = 31  # Modify an existing value"
   ]
  },
  {
   "cell_type": "markdown",
   "id": "34be3f85",
   "metadata": {},
   "source": [
    "## 7. Removing Values\n",
    "### We can remove key-value pairs using the del keyword:"
   ]
  },
  {
   "cell_type": "code",
   "execution_count": null,
   "id": "8ea6dbd5",
   "metadata": {},
   "outputs": [],
   "source": [
    "del my_dict['city']"
   ]
  },
  {
   "cell_type": "markdown",
   "id": "870c86da",
   "metadata": {},
   "source": [
    "## 8. Iterating Over a Dictionary\n",
    "### We can iterate over a dictionary using a for loop:"
   ]
  },
  {
   "cell_type": "code",
   "execution_count": null,
   "id": "f53db0e2",
   "metadata": {},
   "outputs": [],
   "source": [
    "for key, value in my_dict.items():\n",
    "    print(key, value)"
   ]
  },
  {
   "cell_type": "markdown",
   "id": "d8dc17f1",
   "metadata": {},
   "source": [
    "## 9. Dictionary Methods\n",
    "\n",
    "### Python provides several built-in methods to work with dictionaries:\n",
    "#### keys(): Returns a view object containing the dictionary's keys.\n",
    "#### values(): Returns a view object containing the dictionary's values.\n",
    "#### items(): Returns a view object containing the dictionary's key-value pairs 1  as tuples.\n",
    "#### get(key, default): Returns the value for the specified key. If the key is not found, returns the default value.\n",
    "#### pop(key, default): Removes and returns the value for the specified key. If the key is not found, returns the default value.\n",
    "#### Practical Example: Analyzing Sales Data\n",
    "### Let's consider a scenario where we have sales data for different products:"
   ]
  },
  {
   "cell_type": "code",
   "execution_count": 3,
   "id": "d27f7f55",
   "metadata": {},
   "outputs": [],
   "source": [
    "sales_data = {\n",
    "    'Product A': 1000,\n",
    "    'Product B': 1500,\n",
    "    'Product C': 800\n",
    "}"
   ]
  },
  {
   "cell_type": "markdown",
   "id": "2a73c3ba",
   "metadata": {},
   "source": [
    "## 10. We can perform various analyses on this data:\n",
    "\n",
    "### Calculate total sales:"
   ]
  },
  {
   "cell_type": "code",
   "execution_count": 4,
   "id": "f87e72f6",
   "metadata": {},
   "outputs": [
    {
     "name": "stdout",
     "output_type": "stream",
     "text": [
      "Total sales: 3300\n"
     ]
    }
   ],
   "source": [
    "total_sales = sum(sales_data.values())\n",
    "print(\"Total sales:\", total_sales)"
   ]
  },
  {
   "cell_type": "markdown",
   "id": "aef58e07",
   "metadata": {},
   "source": [
    "### Find the product with the highest sales:"
   ]
  },
  {
   "cell_type": "code",
   "execution_count": 5,
   "id": "67fe62fb",
   "metadata": {},
   "outputs": [
    {
     "name": "stdout",
     "output_type": "stream",
     "text": [
      "Product with highest sales: Product B\n"
     ]
    }
   ],
   "source": [
    "max_sales = max(sales_data.values())\n",
    "for product, sales in sales_data.items():\n",
    "    if sales == max_sales:\n",
    "        print(\"Product with highest sales:\", product)\n",
    "        break"
   ]
  },
  {
   "cell_type": "markdown",
   "id": "bf27d06e",
   "metadata": {},
   "source": [
    "### Create a new dictionary to store sales percentages:"
   ]
  },
  {
   "cell_type": "code",
   "execution_count": 6,
   "id": "d2348c7a",
   "metadata": {},
   "outputs": [
    {
     "name": "stdout",
     "output_type": "stream",
     "text": [
      "{'Product A': 30.303030303030305, 'Product B': 45.45454545454545, 'Product C': 24.242424242424242}\n"
     ]
    }
   ],
   "source": [
    "total_sales = sum(sales_data.values())\n",
    "sales_percentages = {}\n",
    "for product, sales in sales_data.items():\n",
    "    percentage = (sales / total_sales) * 100\n",
    "    sales_percentages[product] = percentage\n",
    "print(sales_percentages)"
   ]
  },
  {
   "cell_type": "markdown",
   "id": "aa02a88d",
   "metadata": {},
   "source": [
    "## 12. Conclusion\n",
    "### Dictionaries are a fundamental tool for data analysts. By understanding their structure, methods, and applications, you can effectively organize, access, and manipulate data to gain valuable insights."
   ]
  },
  {
   "cell_type": "markdown",
   "id": "436bcef2",
   "metadata": {},
   "source": [
    "## 13. Practice Exercises:\n",
    "### a) Create a dictionary to store information about a person (name, age, city, hobbies).\n",
    "### b) Write a program to count the frequency of words in a given text.\n",
    "### c) Implement a simple inventory system using dictionaries.\n",
    "### d) Analyze a dataset of customer orders to find the most popular product category.\n",
    "### e) Create a dictionary to store student grades and calculate the average grade."
   ]
  },
  {
   "cell_type": "markdown",
   "id": "0ad42adf",
   "metadata": {},
   "source": [
    "### f) Inventory Management:\n",
    "#### Create a dictionary to store product information: name, quantity, price.\n",
    "#### Implement functions to:\n",
    "#### Add new products\n",
    "#### Update product quantities\n",
    "#### Calculate total inventory value\n",
    "#### Generate a report of low-stock items\n",
    "\n",
    "### g) Student Gradebook:\n",
    "#### Create a dictionary to store student information: name, grades for different subjects.\n",
    "#### Calculate the average grade for each student.\n",
    "#### Find the highest and lowest grades in a specific subject.\n",
    "#### Sort students by their average grades.\n",
    "\n",
    "### h) Simple E-commerce Store:\n",
    "#### Create a dictionary to store product information: name, price, quantity.\n",
    "#### Implement a shopping cart feature where users can add and remove products.\n",
    "#### Calculate the total cost of items in the cart.\n",
    "#### Apply discounts and taxes to the total cost."
   ]
  },
  {
   "cell_type": "code",
   "execution_count": null,
   "id": "9fdd33a8",
   "metadata": {},
   "outputs": [],
   "source": []
  }
 ],
 "metadata": {
  "kernelspec": {
   "display_name": "Python 3 (ipykernel)",
   "language": "python",
   "name": "python3"
  },
  "language_info": {
   "codemirror_mode": {
    "name": "ipython",
    "version": 3
   },
   "file_extension": ".py",
   "mimetype": "text/x-python",
   "name": "python",
   "nbconvert_exporter": "python",
   "pygments_lexer": "ipython3",
   "version": "3.11.3"
  }
 },
 "nbformat": 4,
 "nbformat_minor": 5
}
